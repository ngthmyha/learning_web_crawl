{
 "cells": [
  {
   "cell_type": "code",
   "execution_count": 1,
   "metadata": {},
   "outputs": [
    {
     "name": "stdout",
     "output_type": "stream",
     "text": [
      "    Name   Age              Email  Country   Income\n",
      "0  Alice  25.0    alice@gmail.com      USA  50000.0\n",
      "1    Bob  30.5      bob@gmail.com  Unknown  60000.0\n",
      "3   None  30.0  david@example.com   Canada  45000.0\n"
     ]
    },
    {
     "name": "stderr",
     "output_type": "stream",
     "text": [
      "/var/folders/1f/rh9qpzxj2j9dr06l6mvn1kx40000gn/T/ipykernel_3392/2025828802.py:17: FutureWarning: A value is trying to be set on a copy of a DataFrame or Series through chained assignment using an inplace method.\n",
      "The behavior will change in pandas 3.0. This inplace method will never work because the intermediate object on which we are setting values always behaves as a copy.\n",
      "\n",
      "For example, when doing 'df[col].method(value, inplace=True)', try using 'df.method({col: value}, inplace=True)' or df[col] = df[col].method(value) instead, to perform the operation inplace on the original object.\n",
      "\n",
      "\n",
      "  df['Age'].fillna(df['Age'].mean(), inplace=True)\n",
      "/var/folders/1f/rh9qpzxj2j9dr06l6mvn1kx40000gn/T/ipykernel_3392/2025828802.py:23: FutureWarning: A value is trying to be set on a copy of a DataFrame or Series through chained assignment using an inplace method.\n",
      "The behavior will change in pandas 3.0. This inplace method will never work because the intermediate object on which we are setting values always behaves as a copy.\n",
      "\n",
      "For example, when doing 'df[col].method(value, inplace=True)', try using 'df.method({col: value}, inplace=True)' or df[col] = df[col].method(value) instead, to perform the operation inplace on the original object.\n",
      "\n",
      "\n",
      "  df['Country'].replace('', 'Unknown', inplace=True)\n",
      "/var/folders/1f/rh9qpzxj2j9dr06l6mvn1kx40000gn/T/ipykernel_3392/2025828802.py:29: FutureWarning: A value is trying to be set on a copy of a DataFrame or Series through chained assignment using an inplace method.\n",
      "The behavior will change in pandas 3.0. This inplace method will never work because the intermediate object on which we are setting values always behaves as a copy.\n",
      "\n",
      "For example, when doing 'df[col].method(value, inplace=True)', try using 'df.method({col: value}, inplace=True)' or df[col] = df[col].method(value) instead, to perform the operation inplace on the original object.\n",
      "\n",
      "\n",
      "  df['Income'].fillna(df['Income'].mean(), inplace=True)\n"
     ]
    }
   ],
   "source": [
    "import pandas as pd\n",
    "\n",
    "# Tạo DataFrame từ dữ liệu thô\n",
    "data = {\n",
    "    'Name': ['Alice', 'Bob', 'Charlie', None, 'Emily'],\n",
    "    'Age': [25, None, 40, 30, 27],\n",
    "    'Email': ['alice@gmail.com', 'bob@gmail.com', '', 'david@example.com', 'emily@gmail.com'],\n",
    "    'Country': ['USA', '', 'UK', 'Canada', 'USA'],\n",
    "    'Income': [50000, 60000, -20000, 45000, None]\n",
    "}\n",
    "df = pd.DataFrame(data)\n",
    "\n",
    "# 1. Loại bỏ hàng trống hoàn toàn\n",
    "df.dropna(how='all', inplace=True)\n",
    "\n",
    "# 2. Điền giá trị mặc định hoặc giá trị trung bình cho cột 'Age'\n",
    "df['Age'].fillna(df['Age'].mean(), inplace=True)\n",
    "\n",
    "# 3. Loại bỏ hoặc sửa dữ liệu không hợp lệ (Income không thể âm)\n",
    "df = df[df['Income'] >= 0]\n",
    "\n",
    "# 4. Điền giá trị mặc định cho cột 'Country' bị thiếu\n",
    "df['Country'].replace('', 'Unknown', inplace=True)\n",
    "\n",
    "# 5. Loại bỏ hàng không có email hợp lệ\n",
    "df = df[df['Email'] != '']\n",
    "\n",
    "# 6. Điền giá trị trung bình cho cột 'Income' bị thiếu\n",
    "df['Income'].fillna(df['Income'].mean(), inplace=True)\n",
    "\n",
    "print(df)"
   ]
  },
  {
   "cell_type": "code",
   "execution_count": 2,
   "metadata": {},
   "outputs": [
    {
     "name": "stdout",
     "output_type": "stream",
     "text": [
      "My email is [REDACTED].\n"
     ]
    }
   ],
   "source": [
    "import re\n",
    "\n",
    "text = \"My email is example@gmail.com.\"\n",
    "cleaned_text = re.sub(r'[a-zA-Z0-9._%+-]+@[a-zA-Z0-9.-]+\\.[a-zA-Z]{2,}', '[REDACTED]', text)\n",
    "print(cleaned_text)"
   ]
  },
  {
   "cell_type": "code",
   "execution_count": 3,
   "metadata": {},
   "outputs": [
    {
     "name": "stdout",
     "output_type": "stream",
     "text": [
      "['Hello', ' how are you', \" I hope you're doing well\", '']\n"
     ]
    }
   ],
   "source": [
    "import re\n",
    "\n",
    "text = \"Hello, how are you? I hope you're doing well.\"\n",
    "result = re.split(r'[,.?]', text)\n",
    "print(result)"
   ]
  },
  {
   "cell_type": "code",
   "execution_count": 4,
   "metadata": {},
   "outputs": [],
   "source": [
    "import pandas as pd\n",
    "\n",
    "# Tạo DataFrame từ dữ liệu đã crawl\n",
    "data = {'name': ['hhhhh', 'kkkkk'], 'class': ['edwede', 'dưedwe']}\n",
    "df = pd.DataFrame(data)\n",
    "\n",
    "# Lưu DataFrame vào file CSV\n",
    "df.to_csv('output.csv', index=False, encoding='utf-8')"
   ]
  },
  {
   "cell_type": "code",
   "execution_count": 1,
   "metadata": {},
   "outputs": [
    {
     "name": "stdout",
     "output_type": "stream",
     "text": [
      "Dữ liệu gốc:\n",
      "   name class\n",
      "0  hhhh    gg\n",
      "1  hhhh    jj\n",
      "2    kk    gg\n",
      "3  ffff    jj\n",
      "4    kk    gg\n",
      "\n",
      "Hàng trùng lặp:\n",
      "  name class\n",
      "4   kk    gg\n",
      "\n",
      "Dữ liệu sau khi loại bỏ giá trị trùng lặp:\n",
      "   name class\n",
      "0  hhhh    gg\n",
      "1  hhhh    jj\n",
      "2    kk    gg\n",
      "3  ffff    jj\n",
      "Dữ liệu đã được lưu vào bảng 'Users' trong SQLite.\n",
      "\n",
      "Dữ liệu đọc từ SQLite:\n",
      "   name class\n",
      "0  hhhh    gg\n",
      "1  hhhh    jj\n",
      "2    kk    gg\n",
      "3  ffff    jj\n"
     ]
    }
   ],
   "source": [
    "import pandas as pd\n",
    "import sqlite3\n",
    "\n",
    "# Tạo DataFrame ví dụ\n",
    "data = {\n",
    "    \"name\": [\"hhhh\", \"hhhh\", \"kk\", \"ffff\", \"kk\"],\n",
    "    \"class\": ['gg', 'jj', 'gg', 'jj', 'gg']\n",
    "}\n",
    "df = pd.DataFrame(data)\n",
    "\n",
    "print(\"Dữ liệu gốc:\")\n",
    "print(df)\n",
    "\n",
    "# 1. Phát hiện các giá trị trùng lặp\n",
    "duplicates = df.duplicated()\n",
    "print(\"\\nHàng trùng lặp:\")\n",
    "print(df[duplicates])\n",
    "\n",
    "# 2. Loại bỏ các giá trị trùng lặp\n",
    "df_cleaned = df.drop_duplicates()\n",
    "print(\"\\nDữ liệu sau khi loại bỏ giá trị trùng lặp:\")\n",
    "print(df_cleaned)\n",
    "\n",
    "# 1. Kết nối hoặc tạo cơ sở dữ liệu SQLite\n",
    "conn = sqlite3.connect(\"example.db\")  # Tạo hoặc mở file SQLite\n",
    "\n",
    "# 2. Lưu DataFrame vào bảng SQLite\n",
    "df_cleaned.to_sql(\"Users\", conn, if_exists=\"replace\", index=False)\n",
    "print(\"Dữ liệu đã được lưu vào bảng 'Users' trong SQLite.\")\n",
    "\n",
    "# 3. Đọc lại dữ liệu từ bảng SQLite\n",
    "df_from_db = pd.read_sql(\"SELECT * FROM Users\", conn)\n",
    "print(\"\\nDữ liệu đọc từ SQLite:\")\n",
    "print(df_from_db)\n",
    "\n",
    "conn.close()"
   ]
  },
  {
   "cell_type": "code",
   "execution_count": null,
   "metadata": {},
   "outputs": [],
   "source": [
    "import requests\n",
    "from requests.exceptions import RequestException\n",
    "import time\n",
    "\n",
    "url = \"https://example.com\"\n",
    "max_retries = 5\n",
    "\n",
    "for attempt in range(max_retries):\n",
    "    try:\n",
    "        response = requests.get(url, timeout=5)\n",
    "        if response.status_code == 200:\n",
    "            print(\"Request thành công!\")\n",
    "            break\n",
    "    except RequestException as e:\n",
    "        print(f\"Thử lại {attempt + 1}/{max_retries}... Lỗi: {e}\")\n",
    "        time.sleep(2)  # Chờ trước khi thử lại\n",
    "else:\n",
    "    print(\"Request thất bại sau nhiều lần thử.\")"
   ]
  },
  {
   "cell_type": "code",
   "execution_count": null,
   "metadata": {},
   "outputs": [],
   "source": [
    "from selenium import webdriver\n",
    "\n",
    "# mô phỏng trình duyệt\n",
    "driver = webdriver.Chrome()\n",
    "driver.get(\"https://example.com/resource\")\n",
    "print(driver.page_source)\n",
    "driver.quit()"
   ]
  }
 ],
 "metadata": {
  "kernelspec": {
   "display_name": "Python 3",
   "language": "python",
   "name": "python3"
  },
  "language_info": {
   "codemirror_mode": {
    "name": "ipython",
    "version": 3
   },
   "file_extension": ".py",
   "mimetype": "text/x-python",
   "name": "python",
   "nbconvert_exporter": "python",
   "pygments_lexer": "ipython3",
   "version": "3.13.0"
  }
 },
 "nbformat": 4,
 "nbformat_minor": 2
}
